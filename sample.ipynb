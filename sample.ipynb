{
 "cells": [
  {
   "cell_type": "code",
   "execution_count": 1,
   "id": "initial_id",
   "metadata": {
    "collapsed": true,
    "ExecuteTime": {
     "end_time": "2024-08-05T02:41:52.347081Z",
     "start_time": "2024-08-05T02:41:51.960153Z"
    }
   },
   "outputs": [],
   "source": [
    "import pandas as pd"
   ]
  },
  {
   "cell_type": "code",
   "outputs": [],
   "source": [
    "circuits_df = pd.read_csv('data/circuits.csv')\n",
    "constructor_results_df = pd.read_csv('data/constructor_results.csv')\n",
    "constructor_standings_df = pd.read_csv('data/constructor_standings.csv')\n",
    "constructors_df = pd.read_csv('data/constructors.csv')\n",
    "drivers_df = pd.read_csv('data/drivers.csv')\n",
    "lap_times_df = pd.read_csv('data/lap_times.csv')\n",
    "pit_stops_df = pd.read_csv('data/pit_stops.csv')\n",
    "qualifying_df = pd.read_csv('data/qualifying.csv')\n",
    "races_df = pd.read_csv('data/races.csv')\n",
    "results_df = pd.read_csv('data/results.csv')\n",
    "seasons_df = pd.read_csv('data/seasons.csv')"
   ],
   "metadata": {
    "collapsed": false,
    "ExecuteTime": {
     "end_time": "2024-08-05T02:41:55.769056Z",
     "start_time": "2024-08-05T02:41:55.517624Z"
    }
   },
   "id": "4b73d20d9ca01522",
   "execution_count": 2
  },
  {
   "cell_type": "code",
   "outputs": [],
   "source": [],
   "metadata": {
    "collapsed": false
   },
   "id": "6989c950b6fc9aa5"
  }
 ],
 "metadata": {
  "kernelspec": {
   "display_name": "Python 3",
   "language": "python",
   "name": "python3"
  },
  "language_info": {
   "codemirror_mode": {
    "name": "ipython",
    "version": 2
   },
   "file_extension": ".py",
   "mimetype": "text/x-python",
   "name": "python",
   "nbconvert_exporter": "python",
   "pygments_lexer": "ipython2",
   "version": "2.7.6"
  }
 },
 "nbformat": 4,
 "nbformat_minor": 5
}
